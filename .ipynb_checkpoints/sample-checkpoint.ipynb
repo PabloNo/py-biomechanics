{
 "cells": [
  {
   "cell_type": "markdown",
   "metadata": {},
   "source": [
    "# Python basics\n",
    "\n",
    "\n",
    "- load csv file with joints data\n",
    "- compute center of mass"
   ]
  },
  {
   "cell_type": "code",
   "execution_count": 58,
   "metadata": {},
   "outputs": [],
   "source": [
    "import csv\n",
    "\n",
    "data = list()\n",
    "f = open('joints.csv')\n",
    "try:\n",
    "    csvfile = open('joints.csv')\n",
    "    reader = csv.reader(csvfile)\n",
    "    data = list(reader)\n",
    "finally:\n",
    "    f.close()\n",
    "\n",
    "    \n",
    "#convert if needed\n",
    "#for i in range(len(data)):\n",
    "#    data[i] = [int(data[i][1]), data[i][1]]\n",
    "#print(data)\n",
    "\n",
    "#load using in numpy genfromtxt\n",
    "#from numpy import genfromtxt\n",
    "#data = genfromtxt('joints.csv', delimiter=',')\n",
    "#print(data)"
   ]
  },
  {
   "cell_type": "code",
   "execution_count": 60,
   "metadata": {},
   "outputs": [
    {
     "data": {
      "text/plain": [
       "array([['01/01/2016', '4'],\n",
       "       ['02/01/2016', '2'],\n",
       "       ['03/01/2016', '10'],\n",
       "       ['04/01/2016', '8']], dtype='<U10')"
      ]
     },
     "execution_count": 60,
     "metadata": {},
     "output_type": "execute_result"
    }
   ],
   "source": [
    "import numpy as np\n",
    "np.array(data)\n"
   ]
  },
  {
   "cell_type": "markdown",
   "metadata": {},
   "source": [
    "## Using pandas dataframe"
   ]
  },
  {
   "cell_type": "code",
   "execution_count": 37,
   "metadata": {},
   "outputs": [
    {
     "name": "stdout",
     "output_type": "stream",
     "text": [
      "            0   1\n",
      "0  01/01/2016   4\n",
      "1  02/01/2016   2\n",
      "2  03/01/2016  10\n",
      "3  04/01/2016   8\n"
     ]
    }
   ],
   "source": [
    "import pandas as pd\n",
    "df = pd.read_csv('joints.csv', sep=',',header=None)\n",
    "print(df)"
   ]
  },
  {
   "cell_type": "code",
   "execution_count": 38,
   "metadata": {},
   "outputs": [
    {
     "name": "stdout",
     "output_type": "stream",
     "text": [
      "[[nan  4.]\n",
      " [nan  2.]\n",
      " [nan 10.]\n",
      " [nan  8.]]\n"
     ]
    }
   ],
   "source": []
  }
 ],
 "metadata": {
  "kernelspec": {
   "display_name": "Python 3",
   "language": "python",
   "name": "python3"
  },
  "language_info": {
   "codemirror_mode": {
    "name": "ipython",
    "version": 3
   },
   "file_extension": ".py",
   "mimetype": "text/x-python",
   "name": "python",
   "nbconvert_exporter": "python",
   "pygments_lexer": "ipython3",
   "version": "3.6.5"
  }
 },
 "nbformat": 4,
 "nbformat_minor": 2
}
